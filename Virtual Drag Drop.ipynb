{
 "cells": [
  {
   "cell_type": "code",
   "execution_count": 1,
   "source": [
    "import cv2\r\n",
    "import cvzone\r\n",
    "from cvzone.HandTrackingModule import HandDetector"
   ],
   "outputs": [],
   "metadata": {}
  },
  {
   "cell_type": "code",
   "execution_count": 7,
   "source": [
    "cap = cv2.VideoCapture(0)\r\n",
    "cap.set(3, 1280)\r\n",
    "cap.set(4, 720)\r\n",
    "\r\n",
    "detector = HandDetector(detectionCon=0.8)\r\n",
    "colorRec = 255,255,0\r\n",
    "\r\n",
    "\r\n",
    "cx, cy, w, h = 60, 60, 100, 100\r\n",
    " \r\n",
    "\r\n",
    "while(True):\r\n",
    "    success, img = cap.read()\r\n",
    "    img =cv2.flip(img, 1) \r\n",
    "    img = detector.findHands(img)\r\n",
    "    lmList, _ = detector.findPosition(img)\r\n",
    "    \r\n",
    "    if lmList:\r\n",
    "\r\n",
    "        l, _, _ = detector.findDistance(8, 12, img)\r\n",
    "        if(l<40):\r\n",
    "            cursor =  lmList[8]    # x,y of fingertip\r\n",
    "            if cx-w//2 < cursor[0] < cx+w//2 and  cy-h//2 < cursor[1] <  cy+h//2:\r\n",
    "                colorRec = 0,255,0\r\n",
    "                cx, cy = cursor\r\n",
    "\r\n",
    "            else:\r\n",
    "                colorRec = (255,0,255)  \r\n",
    "\r\n",
    "    cv2.rectangle(img, (cx-w//2, cy-h//2), (cx+w//2,cy+h//2), colorRec, cv2.FILLED)\r\n",
    "    cv2.imshow('Image', img)\r\n",
    "    if cv2.waitKey(1) & 0xFF == ord('q'):\r\n",
    "        break\r\n",
    "cap.release()\r\n",
    "cv2.destroyAllWindows()"
   ],
   "outputs": [],
   "metadata": {}
  },
  {
   "cell_type": "code",
   "execution_count": null,
   "source": [],
   "outputs": [],
   "metadata": {}
  }
 ],
 "metadata": {
  "kernelspec": {
   "name": "python3",
   "display_name": "Python 3.6.7 64-bit ('tensorflow': conda)"
  },
  "language_info": {
   "name": "python",
   "version": "3.6.7",
   "mimetype": "text/x-python",
   "codemirror_mode": {
    "name": "ipython",
    "version": 3
   },
   "pygments_lexer": "ipython3",
   "nbconvert_exporter": "python",
   "file_extension": ".py"
  },
  "interpreter": {
   "hash": "e9acf0a5f7b368749e03ba162bc6f8dae21ce9d9285a8a40c5b041a2ff3bab4f"
  }
 },
 "nbformat": 4,
 "nbformat_minor": 2
}