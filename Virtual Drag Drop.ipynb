{
 "cells": [
  {
   "cell_type": "code",
   "execution_count": 1,
   "metadata": {},
   "outputs": [],
   "source": [
    "import cv2\n",
    "import cvzone\n",
    "from cvzone.HandTrackingModule import HandDetector"
   ]
  },
  {
   "cell_type": "code",
   "execution_count": 4,
   "metadata": {},
   "outputs": [],
   "source": [
    "cap = cv2.VideoCapture(0)\n",
    "#address = \"http://192.168.0.122:8080/video\"\n",
    "#cap.open(address)\n",
    "\n",
    "cap.set(3, 1280)\n",
    "cap.set(4, 720)\n",
    "\n",
    "detector = HandDetector(detectionCon=0.8)\n",
    "colorRec = 0,255,0\n",
    "\n",
    "cx, cy, w, h = 100, 10, 200, 200\n",
    "  \n",
    "class DragRect():\n",
    "    def __init__(self, posCenter, size =[200,200]):\n",
    "        self.posCenter =posCenter\n",
    "        self.size = size\n",
    "    \n",
    "    def update(self, cursor):\n",
    "        cx, cy = self.posCenter\n",
    "        w, h = self.size\n",
    "\n",
    "\n",
    "        if cx-w//2 < cursor[0] < cx+w//2 and cy-h//2 < cursor[1] <  cy+h//2:\n",
    "            self.posCenter = cursor\n",
    "\n",
    "rectlist = []\n",
    "for x in range(5):\n",
    "    rectlist.append(DragRect([x*250+150,150]))\n",
    "\n",
    "while(True):\n",
    "    success, img = cap.read()\n",
    "    img =cv2.flip(img, 1) \n",
    "    img = detector.findHands(img)\n",
    "    lmList, _ = detector.findPosition(img)\n",
    "    \n",
    "    if lmList:\n",
    "        l, _, _ = detector.findDistance(8, 12, img)\n",
    "        if(l<30):\n",
    "            cursor =  lmList[8]    # x,y of fingertip\n",
    "            for rect in rectlist:\n",
    "                rect.update(cursor)\n",
    "\n",
    "    for rect in rectlist:\n",
    "        cx, cy = rect.posCenter\n",
    "        w, h = rect.size\n",
    "        cv2.rectangle(img, (cx-w//2, cy-h//2), (cx+w//2,cy+h//2), colorRec, cv2.FILLED)\n",
    "\n",
    "    cv2.imshow('Image', img)\n",
    "    if cv2.waitKey(1) & 0xFF == ord('q'):\n",
    "        break\n",
    "cap.release()\n",
    "cv2.destroyAllWindows()"
   ]
  }
 ],
 "metadata": {
  "interpreter": {
   "hash": "e9acf0a5f7b368749e03ba162bc6f8dae21ce9d9285a8a40c5b041a2ff3bab4f"
  },
  "kernelspec": {
   "display_name": "Python 3.6.7 64-bit ('tensorflow': conda)",
   "name": "python3"
  },
  "language_info": {
   "codemirror_mode": {
    "name": "ipython",
    "version": 3
   },
   "file_extension": ".py",
   "mimetype": "text/x-python",
   "name": "python",
   "nbconvert_exporter": "python",
   "pygments_lexer": "ipython3",
   "version": "3.6.7"
  }
 },
 "nbformat": 4,
 "nbformat_minor": 2
}
